{
  "nbformat": 4,
  "nbformat_minor": 0,
  "metadata": {
    "colab": {
      "name": "Untitled9.ipynb",
      "provenance": [],
      "collapsed_sections": []
    },
    "kernelspec": {
      "name": "python3",
      "display_name": "Python 3"
    },
    "language_info": {
      "name": "python"
    }
  },
  "cells": [
    {
      "cell_type": "code",
      "metadata": {
        "id": "wdxy8O5MoTpB"
      },
      "source": [
        "import tensorflow as tf\n",
        "from tensorflow import keras\n",
        "from tensorflow.keras import layers"
      ],
      "execution_count": null,
      "outputs": []
    },
    {
      "cell_type": "code",
      "metadata": {
        "id": "B2cMujnZ35UM",
        "colab": {
          "base_uri": "https://localhost:8080/"
        },
        "outputId": "bbf14251-1701-436a-d86a-0c0397a74648"
      },
      "source": [
        "!pip install mido==1.2.9"
      ],
      "execution_count": null,
      "outputs": [
        {
          "output_type": "stream",
          "name": "stdout",
          "text": [
            "Requirement already satisfied: mido==1.2.9 in /usr/local/lib/python3.7/dist-packages (1.2.9)\n"
          ]
        }
      ]
    },
    {
      "cell_type": "code",
      "metadata": {
        "id": "RCDRfWJWpVTp"
      },
      "source": [
        "from scipy.fft import fft, ifft\n",
        "from scipy.signal import stft\n",
        "import numpy as np"
      ],
      "execution_count": null,
      "outputs": []
    },
    {
      "cell_type": "code",
      "metadata": {
        "id": "0kNUX2ngpX1y"
      },
      "source": [
        "x = np.array([1.0, 2.0, 1.0, -1.0, 1.5])"
      ],
      "execution_count": null,
      "outputs": []
    },
    {
      "cell_type": "code",
      "metadata": {
        "id": "zBlYS8yPpha8",
        "colab": {
          "base_uri": "https://localhost:8080/",
          "height": 358
        },
        "outputId": "d2afb5ff-3b58-4830-e081-207eb9e4672f"
      },
      "source": [
        "import librosa\n",
        "y, sr = librosa.load('Sakura Girl - Small Town.mp3')"
      ],
      "execution_count": null,
      "outputs": [
        {
          "output_type": "stream",
          "name": "stderr",
          "text": [
            "/usr/local/lib/python3.7/dist-packages/librosa/core/audio.py:165: UserWarning: PySoundFile failed. Trying audioread instead.\n",
            "  warnings.warn(\"PySoundFile failed. Trying audioread instead.\")\n"
          ]
        },
        {
          "output_type": "error",
          "ename": "KeyboardInterrupt",
          "evalue": "ignored",
          "traceback": [
            "\u001b[0;31m---------------------------------------------------------------------------\u001b[0m",
            "\u001b[0;31mKeyboardInterrupt\u001b[0m                         Traceback (most recent call last)",
            "\u001b[0;32m<ipython-input-4-5e2a367aedb0>\u001b[0m in \u001b[0;36m<module>\u001b[0;34m()\u001b[0m\n\u001b[1;32m      1\u001b[0m \u001b[0;32mimport\u001b[0m \u001b[0mlibrosa\u001b[0m\u001b[0;34m\u001b[0m\u001b[0;34m\u001b[0m\u001b[0m\n\u001b[0;32m----> 2\u001b[0;31m \u001b[0my\u001b[0m\u001b[0;34m,\u001b[0m \u001b[0msr\u001b[0m \u001b[0;34m=\u001b[0m \u001b[0mlibrosa\u001b[0m\u001b[0;34m.\u001b[0m\u001b[0mload\u001b[0m\u001b[0;34m(\u001b[0m\u001b[0;34m'Sakura Girl - Small Town.mp3'\u001b[0m\u001b[0;34m)\u001b[0m\u001b[0;34m\u001b[0m\u001b[0;34m\u001b[0m\u001b[0m\n\u001b[0m",
            "\u001b[0;32m/usr/local/lib/python3.7/dist-packages/librosa/core/audio.py\u001b[0m in \u001b[0;36mload\u001b[0;34m(path, sr, mono, offset, duration, dtype, res_type)\u001b[0m\n\u001b[1;32m    173\u001b[0m \u001b[0;34m\u001b[0m\u001b[0m\n\u001b[1;32m    174\u001b[0m     \u001b[0;32mif\u001b[0m \u001b[0msr\u001b[0m \u001b[0;32mis\u001b[0m \u001b[0;32mnot\u001b[0m \u001b[0;32mNone\u001b[0m\u001b[0;34m:\u001b[0m\u001b[0;34m\u001b[0m\u001b[0;34m\u001b[0m\u001b[0m\n\u001b[0;32m--> 175\u001b[0;31m         \u001b[0my\u001b[0m \u001b[0;34m=\u001b[0m \u001b[0mresample\u001b[0m\u001b[0;34m(\u001b[0m\u001b[0my\u001b[0m\u001b[0;34m,\u001b[0m \u001b[0msr_native\u001b[0m\u001b[0;34m,\u001b[0m \u001b[0msr\u001b[0m\u001b[0;34m,\u001b[0m \u001b[0mres_type\u001b[0m\u001b[0;34m=\u001b[0m\u001b[0mres_type\u001b[0m\u001b[0;34m)\u001b[0m\u001b[0;34m\u001b[0m\u001b[0;34m\u001b[0m\u001b[0m\n\u001b[0m\u001b[1;32m    176\u001b[0m \u001b[0;34m\u001b[0m\u001b[0m\n\u001b[1;32m    177\u001b[0m     \u001b[0;32melse\u001b[0m\u001b[0;34m:\u001b[0m\u001b[0;34m\u001b[0m\u001b[0;34m\u001b[0m\u001b[0m\n",
            "\u001b[0;32m/usr/local/lib/python3.7/dist-packages/librosa/core/audio.py\u001b[0m in \u001b[0;36mresample\u001b[0;34m(y, orig_sr, target_sr, res_type, fix, scale, **kwargs)\u001b[0m\n\u001b[1;32m    602\u001b[0m         \u001b[0my_hat\u001b[0m \u001b[0;34m=\u001b[0m \u001b[0msoxr\u001b[0m\u001b[0;34m.\u001b[0m\u001b[0mresample\u001b[0m\u001b[0;34m(\u001b[0m\u001b[0my\u001b[0m\u001b[0;34m.\u001b[0m\u001b[0mT\u001b[0m\u001b[0;34m,\u001b[0m \u001b[0morig_sr\u001b[0m\u001b[0;34m,\u001b[0m \u001b[0mtarget_sr\u001b[0m\u001b[0;34m,\u001b[0m \u001b[0mquality\u001b[0m\u001b[0;34m=\u001b[0m\u001b[0mres_type\u001b[0m\u001b[0;34m)\u001b[0m\u001b[0;34m.\u001b[0m\u001b[0mT\u001b[0m\u001b[0;34m\u001b[0m\u001b[0;34m\u001b[0m\u001b[0m\n\u001b[1;32m    603\u001b[0m     \u001b[0;32melse\u001b[0m\u001b[0;34m:\u001b[0m\u001b[0;34m\u001b[0m\u001b[0;34m\u001b[0m\u001b[0m\n\u001b[0;32m--> 604\u001b[0;31m         \u001b[0my_hat\u001b[0m \u001b[0;34m=\u001b[0m \u001b[0mresampy\u001b[0m\u001b[0;34m.\u001b[0m\u001b[0mresample\u001b[0m\u001b[0;34m(\u001b[0m\u001b[0my\u001b[0m\u001b[0;34m,\u001b[0m \u001b[0morig_sr\u001b[0m\u001b[0;34m,\u001b[0m \u001b[0mtarget_sr\u001b[0m\u001b[0;34m,\u001b[0m \u001b[0mfilter\u001b[0m\u001b[0;34m=\u001b[0m\u001b[0mres_type\u001b[0m\u001b[0;34m,\u001b[0m \u001b[0maxis\u001b[0m\u001b[0;34m=\u001b[0m\u001b[0;34m-\u001b[0m\u001b[0;36m1\u001b[0m\u001b[0;34m)\u001b[0m\u001b[0;34m\u001b[0m\u001b[0;34m\u001b[0m\u001b[0m\n\u001b[0m\u001b[1;32m    605\u001b[0m \u001b[0;34m\u001b[0m\u001b[0m\n\u001b[1;32m    606\u001b[0m     \u001b[0;32mif\u001b[0m \u001b[0mfix\u001b[0m\u001b[0;34m:\u001b[0m\u001b[0;34m\u001b[0m\u001b[0;34m\u001b[0m\u001b[0m\n",
            "\u001b[0;32m/usr/local/lib/python3.7/dist-packages/resampy/core.py\u001b[0m in \u001b[0;36mresample\u001b[0;34m(x, sr_orig, sr_new, axis, filter, **kwargs)\u001b[0m\n\u001b[1;32m    118\u001b[0m     \u001b[0mx_2d\u001b[0m \u001b[0;34m=\u001b[0m \u001b[0mx\u001b[0m\u001b[0;34m.\u001b[0m\u001b[0mswapaxes\u001b[0m\u001b[0;34m(\u001b[0m\u001b[0;36m0\u001b[0m\u001b[0;34m,\u001b[0m \u001b[0maxis\u001b[0m\u001b[0;34m)\u001b[0m\u001b[0;34m.\u001b[0m\u001b[0mreshape\u001b[0m\u001b[0;34m(\u001b[0m\u001b[0;34m(\u001b[0m\u001b[0mx\u001b[0m\u001b[0;34m.\u001b[0m\u001b[0mshape\u001b[0m\u001b[0;34m[\u001b[0m\u001b[0maxis\u001b[0m\u001b[0;34m]\u001b[0m\u001b[0;34m,\u001b[0m \u001b[0;34m-\u001b[0m\u001b[0;36m1\u001b[0m\u001b[0;34m)\u001b[0m\u001b[0;34m)\u001b[0m\u001b[0;34m\u001b[0m\u001b[0;34m\u001b[0m\u001b[0m\n\u001b[1;32m    119\u001b[0m     \u001b[0my_2d\u001b[0m \u001b[0;34m=\u001b[0m \u001b[0my\u001b[0m\u001b[0;34m.\u001b[0m\u001b[0mswapaxes\u001b[0m\u001b[0;34m(\u001b[0m\u001b[0;36m0\u001b[0m\u001b[0;34m,\u001b[0m \u001b[0maxis\u001b[0m\u001b[0;34m)\u001b[0m\u001b[0;34m.\u001b[0m\u001b[0mreshape\u001b[0m\u001b[0;34m(\u001b[0m\u001b[0;34m(\u001b[0m\u001b[0my\u001b[0m\u001b[0;34m.\u001b[0m\u001b[0mshape\u001b[0m\u001b[0;34m[\u001b[0m\u001b[0maxis\u001b[0m\u001b[0;34m]\u001b[0m\u001b[0;34m,\u001b[0m \u001b[0;34m-\u001b[0m\u001b[0;36m1\u001b[0m\u001b[0;34m)\u001b[0m\u001b[0;34m)\u001b[0m\u001b[0;34m\u001b[0m\u001b[0;34m\u001b[0m\u001b[0m\n\u001b[0;32m--> 120\u001b[0;31m     \u001b[0mresample_f\u001b[0m\u001b[0;34m(\u001b[0m\u001b[0mx_2d\u001b[0m\u001b[0;34m,\u001b[0m \u001b[0my_2d\u001b[0m\u001b[0;34m,\u001b[0m \u001b[0msample_ratio\u001b[0m\u001b[0;34m,\u001b[0m \u001b[0minterp_win\u001b[0m\u001b[0;34m,\u001b[0m \u001b[0minterp_delta\u001b[0m\u001b[0;34m,\u001b[0m \u001b[0mprecision\u001b[0m\u001b[0;34m)\u001b[0m\u001b[0;34m\u001b[0m\u001b[0;34m\u001b[0m\u001b[0m\n\u001b[0m\u001b[1;32m    121\u001b[0m \u001b[0;34m\u001b[0m\u001b[0m\n\u001b[1;32m    122\u001b[0m     \u001b[0;32mreturn\u001b[0m \u001b[0my\u001b[0m\u001b[0;34m\u001b[0m\u001b[0;34m\u001b[0m\u001b[0m\n",
            "\u001b[0;31mKeyboardInterrupt\u001b[0m: "
          ]
        }
      ]
    },
    {
      "cell_type": "code",
      "metadata": {
        "id": "eW4BasCXpp9q"
      },
      "source": [
        "freq = stft(y,sr)"
      ],
      "execution_count": null,
      "outputs": []
    },
    {
      "cell_type": "code",
      "metadata": {
        "colab": {
          "base_uri": "https://localhost:8080/"
        },
        "id": "40tphqE8pwZD",
        "outputId": "ef66a1ae-226d-446a-eff7-83163fdf5183"
      },
      "source": [
        "freq[1].shape"
      ],
      "execution_count": null,
      "outputs": [
        {
          "output_type": "execute_result",
          "data": {
            "text/plain": [
              "(26020,)"
            ]
          },
          "metadata": {},
          "execution_count": 34
        }
      ]
    },
    {
      "cell_type": "code",
      "metadata": {
        "id": "ZA-zxcqf4EQL"
      },
      "source": [
        "!rm new_song.mid\n",
        "from mido import Message, MidiFile, MidiTrack\n",
        "\n",
        "mid = MidiFile()\n",
        "newtrack = MidiTrack()\n",
        "mid.tracks.append(newtrack)\n",
        "# newtrack.append(Message('program_change', program=12, time=0))\n",
        "\n",
        "import os\n",
        "from mido import MidiFile\n",
        "\n",
        "\n",
        "\n",
        "message_numbers = []\n",
        "duplicates = []\n",
        "\n",
        "myData = []\n",
        "\n",
        "cv1 = MidiFile('in.mid', clip=True)\n",
        "\n",
        "for track in cv1.tracks:\n",
        "    # print(track.name)\n",
        "    # if track.name == \"Piano left\":\n",
        "      cv1.tracks.remove(track)\n",
        "      for i in track[10:100000]:\n",
        "\n",
        "        try:\n",
        "          # if i.time != 0:\n",
        "            # print(i.velocity)\n",
        "            print([i.note, i.velocity, i.time])\n",
        "\n",
        "            myData.append([i.note, i.velocity, i.time])\n",
        "            newtrack.append(Message('note_on', note=i.note, velocity=i.velocity, time=int(i.time*3)))\n",
        "\n",
        "        except:\n",
        "          pass\n",
        "\n",
        "# mid.save('test.mid')\n",
        "\n",
        "# cv1 = MidiFile('in.mid', clip=True)\n",
        "\n",
        "# for track in cv1.tracks:\n",
        "#     # print(track.name)\n",
        "#     # if track.name == \"Piano left\":\n",
        "#       cv1.tracks.remove(track)\n",
        "#       for i in track[10:100000]:\n",
        "\n",
        "#         try:\n",
        "#           # if i.time != 0:\n",
        "#             # print(i.velocity)\n",
        "#             print([i.note, i.velocity, i.time])\n",
        "\n",
        "#             myData.append([i.note, i.velocity, i.time])\n",
        "#             newtrack.append(Message('note_on', note=i.note, velocity=i.velocity, time=int(i.time*3)))\n",
        "\n",
        "#         except:\n",
        "#           pass\n",
        "# cv1 = MidiFile('a.mid', clip=True)\n",
        "\n",
        "# for track in cv1.tracks:\n",
        "#     # print(track.name)\n",
        "#     # if track.name == \"Piano left\":\n",
        "#       cv1.tracks.remove(track)\n",
        "#       for i in track[10:100000]:\n",
        "\n",
        "#         try:\n",
        "#           # if i.time != 0:\n",
        "#             # print(i.velocity)\n",
        "#             print([i.note, i.velocity, i.time])\n",
        "\n",
        "#             myData.append([i.note, i.velocity, i.time])\n",
        "#             newtrack.append(Message('note_on', note=i.note, velocity=i.velocity, time=int(i.time*3)))\n",
        "\n",
        "#         except:\n",
        "#           pass\n",
        "\n"
      ],
      "execution_count": null,
      "outputs": []
    },
    {
      "cell_type": "code",
      "metadata": {
        "id": "UVX2BD7eHtGF"
      },
      "source": [
        "# myData.append(1)"
      ],
      "execution_count": null,
      "outputs": []
    },
    {
      "cell_type": "code",
      "metadata": {
        "id": "pY2nuOmjH6de"
      },
      "source": [
        "myData = np.array(myData)"
      ],
      "execution_count": null,
      "outputs": []
    },
    {
      "cell_type": "code",
      "metadata": {
        "colab": {
          "base_uri": "https://localhost:8080/"
        },
        "id": "umcDelulUze7",
        "outputId": "06402aad-cba0-40b3-b1af-18b997e7b70a"
      },
      "source": [
        "max1 = -10;\n",
        "max2 = -10;\n",
        "max3 = -10;\n",
        "min1 = 10000000000\n",
        "min2 = 10000000000\n",
        "min3 = 10000000000\n",
        "for i in myData:\n",
        "  max1 = max(max1, i[0])\n",
        "  max2 = max(max2, i[1])\n",
        "  max3 = max(max3, i[2])\n",
        "  min1 = min(min1, i[0])\n",
        "  min2 = min(min2, i[1])\n",
        "  min3 = min(min3, i[2])\n",
        "print(max1,max2,max3)\n",
        "\n",
        "myDataNormalized = myData.astype(\"float\")\n",
        "\n",
        "for i in range(len(myData)):\n",
        "  myDataNormalized[i][0] = (myData[i][0]-min1) / max1\n",
        "  myDataNormalized[i][1] = myData[i][1] / max2\n",
        "  myDataNormalized[i][2] = myData[i][2] / max3"
      ],
      "execution_count": null,
      "outputs": [
        {
          "output_type": "stream",
          "name": "stdout",
          "text": [
            "78 100 16896\n"
          ]
        }
      ]
    },
    {
      "cell_type": "code",
      "metadata": {
        "colab": {
          "base_uri": "https://localhost:8080/"
        },
        "id": "5kuJ2R777NST",
        "outputId": "63ebec95-6bb7-464e-d8c5-3a45643ba4ae"
      },
      "source": [
        "max1-min1"
      ],
      "execution_count": null,
      "outputs": [
        {
          "output_type": "execute_result",
          "data": {
            "text/plain": [
              "47"
            ]
          },
          "metadata": {},
          "execution_count": 86
        }
      ]
    },
    {
      "cell_type": "code",
      "metadata": {
        "colab": {
          "base_uri": "https://localhost:8080/"
        },
        "id": "maSwfsTm5cso",
        "outputId": "018ccbad-5c9b-479a-81d0-9a4182cab184"
      },
      "source": [
        "min1"
      ],
      "execution_count": null,
      "outputs": [
        {
          "output_type": "execute_result",
          "data": {
            "text/plain": [
              "41"
            ]
          },
          "metadata": {},
          "execution_count": 71
        }
      ]
    },
    {
      "cell_type": "code",
      "metadata": {
        "id": "Fjy1q633LISi"
      },
      "source": [
        "x = []\n",
        "y = []\n",
        "\n",
        "for i in range(0,len(myDataNormalized)-17):\n",
        "  x.append(myDataNormalized[i:i+13])\n",
        "  y.append(myDataNormalized[i+14:i+16])\n",
        "\n",
        "x = np.array(x)\n",
        "y = np.array(y)"
      ],
      "execution_count": null,
      "outputs": []
    },
    {
      "cell_type": "code",
      "metadata": {
        "colab": {
          "base_uri": "https://localhost:8080/"
        },
        "id": "ZiAQ9AwEllLN",
        "outputId": "1a6bac36-b339-4020-8e50-832f6a629ae6"
      },
      "source": [
        "y.shape"
      ],
      "execution_count": null,
      "outputs": [
        {
          "output_type": "execute_result",
          "data": {
            "text/plain": [
              "(12611, 2, 3)"
            ]
          },
          "metadata": {},
          "execution_count": 244
        }
      ]
    },
    {
      "cell_type": "code",
      "metadata": {
        "id": "7xHU1C8Z9EpC"
      },
      "source": [
        "import random\n",
        "for i in range(len(x)):\n",
        "  target = random.randint(i,len(x)-1)\n",
        "  x[target], x[i] = x[i], x[target]\n",
        "  y[target], y[i] = y[i], y[target]"
      ],
      "execution_count": null,
      "outputs": []
    },
    {
      "cell_type": "code",
      "metadata": {
        "id": "xfv8m4AcpCBm",
        "colab": {
          "base_uri": "https://localhost:8080/"
        },
        "outputId": "31f1c59b-6d89-495a-cddd-f672b0dacfde"
      },
      "source": [
        "model = tf.keras.models.Sequential([\n",
        "  tf.keras.layers.Input(shape=(13, 3)),\n",
        "  tf.keras.layers.Conv1D(32,3),\n",
        "  tf.keras.layers.Conv1D(64,3),\n",
        "  tf.keras.layers.Dense(20),\n",
        "  tf.keras.layers.Bidirectional(tf.keras.layers.GRU(128, return_sequences=True)),\n",
        "  tf.keras.layers.Dropout(0.5),\n",
        "  tf.keras.layers.Dense(128),\n",
        "  tf.keras.layers.Dense(64),\n",
        "  tf.keras.layers.Dense(32),\n",
        "  tf.keras.layers.Dense(16),\n",
        "  tf.keras.layers.Dropout(0.5),\n",
        "  tf.keras.layers.Dense(8),\n",
        "  tf.keras.layers.Flatten(),\n",
        "  tf.keras.layers.Dense(2*3),\n",
        "  tf.keras.layers.Reshape((2,3))\n",
        "])\n",
        "print(model.input_shape)\n",
        "model.summary()\n",
        "model.compile(optimizer=tf.keras.optimizers.Adam(),\n",
        "          loss=\"mean_squared_error\")"
      ],
      "execution_count": null,
      "outputs": [
        {
          "output_type": "stream",
          "name": "stdout",
          "text": [
            "(None, 13, 3)\n",
            "Model: \"sequential_1\"\n",
            "_________________________________________________________________\n",
            "Layer (type)                 Output Shape              Param #   \n",
            "=================================================================\n",
            "conv1d_2 (Conv1D)            (None, 11, 32)            320       \n",
            "_________________________________________________________________\n",
            "conv1d_3 (Conv1D)            (None, 9, 64)             6208      \n",
            "_________________________________________________________________\n",
            "dense_7 (Dense)              (None, 9, 20)             1300      \n",
            "_________________________________________________________________\n",
            "bidirectional_1 (Bidirection (None, 9, 256)            115200    \n",
            "_________________________________________________________________\n",
            "dropout_2 (Dropout)          (None, 9, 256)            0         \n",
            "_________________________________________________________________\n",
            "dense_8 (Dense)              (None, 9, 128)            32896     \n",
            "_________________________________________________________________\n",
            "dense_9 (Dense)              (None, 9, 64)             8256      \n",
            "_________________________________________________________________\n",
            "dense_10 (Dense)             (None, 9, 32)             2080      \n",
            "_________________________________________________________________\n",
            "dense_11 (Dense)             (None, 9, 16)             528       \n",
            "_________________________________________________________________\n",
            "dropout_3 (Dropout)          (None, 9, 16)             0         \n",
            "_________________________________________________________________\n",
            "dense_12 (Dense)             (None, 9, 8)              136       \n",
            "_________________________________________________________________\n",
            "flatten_1 (Flatten)          (None, 72)                0         \n",
            "_________________________________________________________________\n",
            "dense_13 (Dense)             (None, 6)                 438       \n",
            "_________________________________________________________________\n",
            "reshape_1 (Reshape)          (None, 2, 3)              0         \n",
            "=================================================================\n",
            "Total params: 167,362\n",
            "Trainable params: 167,362\n",
            "Non-trainable params: 0\n",
            "_________________________________________________________________\n"
          ]
        }
      ]
    },
    {
      "cell_type": "code",
      "metadata": {
        "id": "Uamvr8LaTW3w",
        "colab": {
          "base_uri": "https://localhost:8080/"
        },
        "outputId": "cfa3ecdc-cb88-4847-ae06-c93e3e59ddc1"
      },
      "source": [
        "model.fit(x,y,epochs=10)"
      ],
      "execution_count": null,
      "outputs": [
        {
          "output_type": "stream",
          "name": "stdout",
          "text": [
            "Epoch 1/10\n",
            "30/30 [==============================] - 5s 24ms/step - loss: 0.0720\n",
            "Epoch 2/10\n",
            "30/30 [==============================] - 1s 23ms/step - loss: 0.0254\n",
            "Epoch 3/10\n",
            "30/30 [==============================] - 1s 24ms/step - loss: 0.0175\n",
            "Epoch 4/10\n",
            "30/30 [==============================] - 1s 23ms/step - loss: 0.0124\n",
            "Epoch 5/10\n",
            "30/30 [==============================] - 1s 23ms/step - loss: 0.0103\n",
            "Epoch 6/10\n",
            "30/30 [==============================] - 1s 23ms/step - loss: 0.0088\n",
            "Epoch 7/10\n",
            "30/30 [==============================] - 1s 23ms/step - loss: 0.0076\n",
            "Epoch 8/10\n",
            "30/30 [==============================] - 1s 23ms/step - loss: 0.0061\n",
            "Epoch 9/10\n",
            "30/30 [==============================] - 1s 24ms/step - loss: 0.0059\n",
            "Epoch 10/10\n",
            "30/30 [==============================] - 1s 24ms/step - loss: 0.0051\n"
          ]
        },
        {
          "output_type": "execute_result",
          "data": {
            "text/plain": [
              "<keras.callbacks.History at 0x7f27bdd6d190>"
            ]
          },
          "metadata": {},
          "execution_count": 48
        }
      ]
    },
    {
      "cell_type": "code",
      "metadata": {
        "id": "5FaBj27tT2jM",
        "colab": {
          "base_uri": "https://localhost:8080/"
        },
        "outputId": "69b5fcf0-e123-4276-fc49-c90a2599c83d"
      },
      "source": [
        "model.predict(np.array([x[0]]))"
      ],
      "execution_count": null,
      "outputs": [
        {
          "output_type": "execute_result",
          "data": {
            "text/plain": [
              "array([[[0.2925444 , 0.9756696 , 0.01380248],\n",
              "        [0.26985762, 0.7278317 , 0.02945775]]], dtype=float32)"
            ]
          },
          "metadata": {},
          "execution_count": 26
        }
      ]
    },
    {
      "cell_type": "code",
      "metadata": {
        "colab": {
          "base_uri": "https://localhost:8080/"
        },
        "id": "BWy5LXYqaLOC",
        "outputId": "0d950fcc-f367-489c-97e6-7091a6668654"
      },
      "source": [
        "y[0] * standarray"
      ],
      "execution_count": null,
      "outputs": [
        {
          "output_type": "execute_result",
          "data": {
            "text/plain": [
              "array([[ 47., 100.,  48.],\n",
              "       [ 47.,  64.,  48.]])"
            ]
          },
          "metadata": {},
          "execution_count": 264
        }
      ]
    },
    {
      "cell_type": "code",
      "metadata": {
        "colab": {
          "base_uri": "https://localhost:8080/"
        },
        "id": "h4J4-DR8WDet",
        "outputId": "49413182-8730-4502-cba8-4135f19426cd"
      },
      "source": [
        "x[0]"
      ],
      "execution_count": null,
      "outputs": [
        {
          "output_type": "execute_result",
          "data": {
            "text/plain": [
              "array([[4.49438202e-01, 7.87401575e-01, 0.00000000e+00],\n",
              "       [4.49438202e-01, 5.03937008e-01, 5.00000000e-04],\n",
              "       [4.49438202e-01, 7.87401575e-01, 5.00000000e-04],\n",
              "       [4.49438202e-01, 5.03937008e-01, 5.00000000e-04],\n",
              "       [4.49438202e-01, 7.87401575e-01, 5.00000000e-04],\n",
              "       [4.49438202e-01, 5.03937008e-01, 5.00000000e-04],\n",
              "       [4.94382022e-01, 7.87401575e-01, 5.00000000e-04],\n",
              "       [4.94382022e-01, 5.03937008e-01, 5.00000000e-04],\n",
              "       [5.50561798e-01, 7.87401575e-01, 5.00000000e-04],\n",
              "       [5.50561798e-01, 5.03937008e-01, 5.00000000e-04],\n",
              "       [5.50561798e-01, 7.87401575e-01, 5.00000000e-04],\n",
              "       [5.50561798e-01, 5.03937008e-01, 5.00000000e-04],\n",
              "       [5.50561798e-01, 7.87401575e-01, 5.00000000e-04]])"
            ]
          },
          "metadata": {},
          "execution_count": 252
        }
      ]
    },
    {
      "cell_type": "code",
      "metadata": {
        "colab": {
          "base_uri": "https://localhost:8080/"
        },
        "id": "jFwq1WYeLhA4",
        "outputId": "5d4bb8fd-e35d-4b11-c172-04d53488143a"
      },
      "source": [
        "max3*5e-4"
      ],
      "execution_count": null,
      "outputs": [
        {
          "output_type": "execute_result",
          "data": {
            "text/plain": [
              "48.0"
            ]
          },
          "metadata": {},
          "execution_count": 258
        }
      ]
    },
    {
      "cell_type": "code",
      "metadata": {
        "colab": {
          "base_uri": "https://localhost:8080/"
        },
        "id": "0hbfVThLLtyg",
        "outputId": "719710f4-7b67-4a2a-f7b0-b9f5950fbb8f"
      },
      "source": [
        "standarray"
      ],
      "execution_count": null,
      "outputs": [
        {
          "output_type": "execute_result",
          "data": {
            "text/plain": [
              "array([   89,   127, 96000])"
            ]
          },
          "metadata": {},
          "execution_count": 261
        }
      ]
    },
    {
      "cell_type": "code",
      "metadata": {
        "id": "vI7sg4tRWySm",
        "colab": {
          "base_uri": "https://localhost:8080/"
        },
        "outputId": "f7f7a56c-bbfc-44b7-dbbc-71a4a7a55cf8"
      },
      "source": [
        "standarray=np.array([max1,max2,max3])\n",
        "seed = x[0]\n",
        "Final = []\n",
        "for i in range(50):\n",
        "  res = model.predict(np.array([seed]))[0]\n",
        "  print(res)\n",
        "  # res+=(np.random.rand(1,3)-np.array([0.5, 0.5, 0.5]))*0.05\n",
        "  # seed = np.array([seed[2],res[0],res[1]])\n",
        "  # print(final)\n",
        "  res+=(np.random.rand(2,3)-np.array([0.5, 0.5, -2]))*0.05\n",
        "  res+=np.array([0, 0, 0.5])\n",
        "  # res=(np.random.rand(2,3)-np.array([0, 0, -0.2])) #yuntotuoneixnguaiudde zhiyou3de yao 6 ge \n",
        "  Final.append(list((res[0]*standarray).astype(\"int\")))\n",
        "  Final.append(list((res[1]*standarray).astype(\"int\")))\n",
        "  new_seed = []\n",
        "  for j in seed[2:]:\n",
        "    new_seed.append(j)\n",
        "  new_seed.append(res[0])\n",
        "  new_seed.append(res[1])\n",
        "  seed = np.array(new_seed)\n",
        "  # seed = np.array([seed[2],res[0],res[1]])"
      ],
      "execution_count": null,
      "outputs": [
        {
          "output_type": "stream",
          "name": "stdout",
          "text": [
            "[[ 0.30667004  0.9596865  -0.00566897]\n",
            " [ 0.29348478  0.61999893 -0.00832103]]\n",
            "[[ 0.26494262  0.92966366 -0.02756995]\n",
            " [ 0.25348866  0.6335369  -0.01588206]]\n",
            "[[ 0.28482825  0.96163404 -0.04750234]\n",
            " [ 0.27417794  0.70982015  0.00529665]]\n",
            "[[ 0.35538474  0.9439057  -0.05913203]\n",
            " [ 0.21574205  0.8002051  -0.03021247]]\n",
            "[[ 0.24173766  0.86325145 -0.01961019]\n",
            " [ 0.2030102   0.78204274 -0.0266736 ]]\n",
            "[[ 2.6417023e-01  8.3845890e-01  6.3183438e-04]\n",
            " [ 2.1295044e-01  7.9143512e-01 -6.1284930e-02]]\n",
            "[[ 0.23096243  0.8823879   0.03382154]\n",
            " [ 0.23888636  0.9258433  -0.12633076]]\n",
            "[[ 0.22339948  0.87060416  0.03928654]\n",
            " [ 0.22663793  0.8798518  -0.1269444 ]]\n",
            "[[ 0.21024102  0.8720392   0.03323623]\n",
            " [ 0.20691916  0.81134033 -0.12968141]]\n",
            "[[ 0.20228197  0.92566144  0.02028323]\n",
            " [ 0.1966689   0.8065837  -0.12912083]]\n",
            "[[ 0.2114453   0.97129834  0.01365743]\n",
            " [ 0.20228106  0.8204698  -0.12174813]]\n",
            "[[ 0.19682801  0.924814    0.01550817]\n",
            " [ 0.18714672  0.79524827 -0.12353756]]\n",
            "[[ 0.2004948   0.9159994   0.00228133]\n",
            " [ 0.17751038  0.78658384 -0.11376268]]\n",
            "[[ 0.19555703  0.943889   -0.00112496]\n",
            " [ 0.17673463  0.82008594 -0.11457979]]\n",
            "[[ 0.19191073  0.924091    0.00430864]\n",
            " [ 0.16913624  0.83268434 -0.1204394 ]]\n",
            "[[ 0.18236881  0.8863524   0.00780395]\n",
            " [ 0.1682567   0.8193059  -0.12038035]]\n",
            "[[ 0.1814391   0.90244234  0.0114997 ]\n",
            " [ 0.15998557  0.82253546 -0.12203544]]\n",
            "[[ 0.18060665  0.9195168   0.00748356]\n",
            " [ 0.17220101  0.8387484  -0.12183148]]\n",
            "[[ 0.17522289  0.8974569   0.01343621]\n",
            " [ 0.15804261  0.82024777 -0.12653175]]\n",
            "[[ 0.17273448  0.9010384   0.0085425 ]\n",
            " [ 0.15792736  0.8235175  -0.11832199]]\n",
            "[[ 0.17404655  0.9218761   0.00502935]\n",
            " [ 0.15568274  0.822435   -0.11613   ]]\n",
            "[[ 0.1697096   0.8971504   0.0047948 ]\n",
            " [ 0.15353748  0.8230142  -0.12465946]]\n",
            "[[ 0.16733791  0.8958205   0.01065358]\n",
            " [ 0.14962627  0.8216204  -0.12023423]]\n",
            "[[ 0.16800573  0.9102135   0.0067282 ]\n",
            " [ 0.15354793  0.8349685  -0.12053827]]\n",
            "[[ 0.16418181  0.9160216   0.01120368]\n",
            " [ 0.1530804   0.8190423  -0.1205117 ]]\n",
            "[[ 0.16770047  0.894238    0.00789409]\n",
            " [ 0.1506939   0.8086611  -0.12609345]]\n",
            "[[ 0.16783495  0.90798223  0.00658905]\n",
            " [ 0.15038854  0.817161   -0.12097668]]\n",
            "[[ 0.16707033  0.92330813  0.0028167 ]\n",
            " [ 0.14802335  0.82676536 -0.11914644]]\n",
            "[[ 0.15974122  0.9110353   0.00628481]\n",
            " [ 0.14082453  0.8172336  -0.12225219]]\n",
            "[[ 0.15578619  0.89120305  0.00645067]\n",
            " [ 0.14140111  0.8102817  -0.12319144]]\n",
            "[[ 0.16037883  0.9126291   0.00781726]\n",
            " [ 0.13878652  0.82917726 -0.12427834]]\n",
            "[[ 0.14833255  0.91359067  0.0050922 ]\n",
            " [ 0.13996816  0.82372165 -0.12243792]]\n",
            "[[ 0.14707708  0.89753044  0.00747151]\n",
            " [ 0.12940553  0.8036733  -0.12790442]]\n",
            "[[ 0.1510743   0.89994943  0.00299647]\n",
            " [ 0.13077435  0.82325935 -0.12557006]]\n",
            "[[ 0.1478933   0.9198704   0.00271714]\n",
            " [ 0.12888126  0.82770294 -0.12093257]]\n",
            "[[ 0.14299509  0.9012351   0.00369028]\n",
            " [ 0.12750298  0.81739634 -0.1250588 ]]\n",
            "[[ 0.15382147  0.8913436   0.00648868]\n",
            " [ 0.13197792  0.81756914 -0.12692538]]\n",
            "[[ 0.15161723  0.9058207   0.00642598]\n",
            " [ 0.13641828  0.82911444 -0.12524569]]\n",
            "[[ 0.15246826  0.91789913  0.00855714]\n",
            " [ 0.13837533  0.8253315  -0.12235174]]\n",
            "[[ 0.15291497  0.90068924  0.00789349]\n",
            " [ 0.13707528  0.8070652  -0.1250746 ]]\n",
            "[[ 0.15413979  0.90313566  0.00756709]\n",
            " [ 0.13862436  0.80772686 -0.12328865]]\n",
            "[[ 0.15692085  0.922336    0.00289994]\n",
            " [ 0.13986355  0.8206323  -0.12026913]]\n",
            "[[ 0.15515943  0.9202815   0.00381413]\n",
            " [ 0.13937837  0.81041026 -0.12275035]]\n",
            "[[ 0.16545047  0.8986496   0.00228188]\n",
            " [ 0.14036971  0.8095782  -0.123674  ]]\n",
            "[[ 0.15639955  0.91100633  0.00617654]\n",
            " [ 0.13909087  0.8216308  -0.12174771]]\n",
            "[[ 0.15569828  0.91053534  0.00345277]\n",
            " [ 0.14188105  0.8238577  -0.12319244]]\n",
            "[[ 0.15815204  0.9088594   0.00915408]\n",
            " [ 0.14061077  0.8177     -0.12430235]]\n",
            "[[ 0.1572131   0.9026121   0.00744279]\n",
            " [ 0.14341468  0.8211105  -0.12623543]]\n",
            "[[ 0.1594939   0.9098234   0.00775573]\n",
            " [ 0.14254685  0.80975205 -0.12454852]]\n",
            "[[ 0.15625554  0.9139328   0.00439034]\n",
            " [ 0.14279786  0.81121445 -0.124417  ]]\n"
          ]
        }
      ]
    },
    {
      "cell_type": "code",
      "metadata": {
        "id": "UEXw5s-xbmup"
      },
      "source": [
        "Final"
      ],
      "execution_count": null,
      "outputs": []
    },
    {
      "cell_type": "code",
      "metadata": {
        "id": "3vB_cyPNbGaa",
        "colab": {
          "base_uri": "https://localhost:8080/"
        },
        "outputId": "18010818-8684-4d9b-bc3b-4684353fcfbe"
      },
      "source": [
        "from mido import Message, MidiFile, MidiTrack\n",
        "\n",
        "mid = MidiFile()\n",
        "newtrack = MidiTrack()\n",
        "mid.tracks.append(newtrack)\n",
        "\n",
        "\n",
        "import os\n",
        "from mido import MidiFile\n",
        "\n",
        "for track in Final:\n",
        "  try:\n",
        "    print(track)\n",
        "    if track[0] < 0 or track[1] < 0 or track[2] < 0:\n",
        "      track[0] = track[1] = track[2] = 0\n",
        "    newtrack.append(Message('note_on', note = track[0] + min1, velocity = track[1], time = track[2]//50))\n",
        "  except:\n",
        "    pass\n",
        "\n",
        "\n",
        "mid.save('out.mid')"
      ],
      "execution_count": null,
      "outputs": [
        {
          "output_type": "stream",
          "name": "stdout",
          "text": [
            "[23, 96, 10483]\n",
            "[23, 59, 10022]\n",
            "[21, 91, 9805]\n",
            "[20, 62, 10591]\n",
            "[20, 93, 9900]\n",
            "[20, 70, 10402]\n",
            "[29, 92, 9682]\n",
            "[15, 78, 9690]\n",
            "[20, 83, 10220]\n",
            "[14, 76, 10101]\n",
            "[21, 84, 10232]\n",
            "[17, 79, 9347]\n",
            "[17, 87, 11428]\n",
            "[18, 94, 8446]\n",
            "[16, 88, 11431]\n",
            "[16, 86, 8029]\n",
            "[17, 86, 11370]\n",
            "[16, 81, 8521]\n",
            "[16, 90, 11142]\n",
            "[13, 82, 8743]\n",
            "[16, 95, 10817]\n",
            "[14, 82, 8384]\n",
            "[15, 94, 11070]\n",
            "[13, 78, 8452]\n",
            "[17, 89, 10842]\n",
            "[13, 77, 8478]\n",
            "[13, 95, 10800]\n",
            "[15, 82, 8571]\n",
            "[16, 90, 10615]\n",
            "[12, 83, 8298]\n",
            "[15, 90, 10921]\n",
            "[12, 81, 8739]\n",
            "[14, 92, 11050]\n",
            "[12, 83, 8499]\n",
            "[12, 93, 10747]\n",
            "[15, 81, 8275]\n",
            "[14, 88, 10998]\n",
            "[12, 79, 8488]\n",
            "[11, 92, 10518]\n",
            "[12, 81, 8681]\n",
            "[12, 93, 10511]\n",
            "[10, 83, 8647]\n",
            "[14, 90, 10329]\n",
            "[13, 82, 8088]\n",
            "[14, 87, 10743]\n",
            "[12, 80, 8690]\n",
            "[14, 92, 10345]\n",
            "[10, 84, 8766]\n",
            "[13, 94, 10749]\n",
            "[11, 82, 8857]\n",
            "[13, 91, 10585]\n",
            "[11, 80, 8516]\n",
            "[12, 89, 10290]\n",
            "[10, 80, 8488]\n",
            "[12, 94, 10830]\n",
            "[9, 83, 8616]\n",
            "[11, 89, 10616]\n",
            "[9, 80, 8612]\n",
            "[13, 90, 10881]\n",
            "[10, 79, 8093]\n",
            "[10, 92, 10982]\n",
            "[9, 83, 8878]\n",
            "[11, 92, 10735]\n",
            "[10, 82, 8876]\n",
            "[9, 89, 10340]\n",
            "[10, 78, 8226]\n",
            "[10, 90, 10682]\n",
            "[11, 82, 8677]\n",
            "[12, 92, 10924]\n",
            "[11, 83, 8368]\n",
            "[11, 91, 10375]\n",
            "[10, 81, 8403]\n",
            "[11, 88, 10488]\n",
            "[9, 79, 8678]\n",
            "[13, 90, 10662]\n",
            "[10, 85, 8210]\n",
            "[12, 90, 10855]\n",
            "[11, 83, 8451]\n",
            "[10, 89, 10332]\n",
            "[12, 79, 8399]\n",
            "[13, 90, 11047]\n",
            "[10, 80, 8400]\n",
            "[12, 92, 10784]\n",
            "[12, 81, 8827]\n",
            "[11, 89, 10671]\n",
            "[9, 81, 8479]\n",
            "[12, 91, 10766]\n",
            "[12, 79, 8348]\n",
            "[12, 91, 10859]\n",
            "[9, 80, 8150]\n",
            "[14, 92, 10498]\n",
            "[11, 81, 8202]\n",
            "[13, 88, 11120]\n",
            "[11, 84, 8086]\n",
            "[10, 90, 10643]\n",
            "[12, 81, 8034]\n",
            "[13, 91, 10873]\n",
            "[10, 81, 8598]\n",
            "[13, 90, 10350]\n",
            "[10, 82, 8183]\n"
          ]
        }
      ]
    }
  ]
}